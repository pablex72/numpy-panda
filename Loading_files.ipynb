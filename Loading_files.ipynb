{
  "nbformat": 4,
  "nbformat_minor": 0,
  "metadata": {
    "colab": {
      "provenance": [],
      "toc_visible": true,
      "authorship_tag": "ABX9TyPFgMEAxHfdi8Nnx4uufmEr",
      "include_colab_link": true
    },
    "kernelspec": {
      "name": "python3",
      "display_name": "Python 3"
    },
    "language_info": {
      "name": "python"
    }
  },
  "cells": [
    {
      "cell_type": "markdown",
      "metadata": {
        "id": "view-in-github",
        "colab_type": "text"
      },
      "source": [
        "<a href=\"https://colab.research.google.com/github/pablex72/numpy-panda/blob/main/Loading_files.ipynb\" target=\"_parent\"><img src=\"https://colab.research.google.com/assets/colab-badge.svg\" alt=\"Open In Colab\"/></a>"
      ]
    },
    {
      "cell_type": "code",
      "execution_count": 1,
      "metadata": {
        "id": "Iv-wIBQ9aQHa"
      },
      "outputs": [],
      "source": [
        "import pandas as pd"
      ]
    },
    {
      "cell_type": "code",
      "source": [
        "df_books = pd.read_csv('/content/bestsellers-with-categories_e591527f-ae45-4fa5-b0d1-d50142128fa6.csv',sep=',', header=0,names = ['Namesss', 'Authorsss', 'User Rating', 'Reviews', 'Price', 'Year', 'Genre'])\n",
        "df_books.columns"
      ],
      "metadata": {
        "colab": {
          "base_uri": "https://localhost:8080/"
        },
        "id": "zCcGwkv5ak7g",
        "outputId": "1172942e-784b-41aa-c39f-059244d39ac1"
      },
      "execution_count": 7,
      "outputs": [
        {
          "output_type": "execute_result",
          "data": {
            "text/plain": [
              "Index(['Namesss', 'Authorsss', 'User Rating', 'Reviews', 'Price', 'Year',\n",
              "       'Genre'],\n",
              "      dtype='object')"
            ]
          },
          "metadata": {},
          "execution_count": 7
        }
      ]
    },
    {
      "cell_type": "code",
      "source": [
        "pd.read_json('/content/hpcharactersdataraw_3d934e85-dfa4-42ec-8520-fadfbecae574.json', typ='Series')"
      ],
      "metadata": {
        "colab": {
          "base_uri": "https://localhost:8080/"
        },
        "id": "5HAzJFcJnLfK",
        "outputId": "8a8384ca-a30e-4465-ba66-ead039a57a20"
      },
      "execution_count": 10,
      "outputs": [
        {
          "output_type": "execute_result",
          "data": {
            "text/plain": [
              "0       {'Name': 'Mrs. Abbott', 'Link': 'https://www.h...\n",
              "1       {'Name': 'Hannah Abbott', 'Link': 'https://www...\n",
              "2       {'Name': 'Abel Treetops', 'Link': 'https://www...\n",
              "3       {'Name': 'Euan Abercrombie', 'Link': 'https://...\n",
              "4       {'Name': 'Aberforth Dumbledore', 'Link': 'http...\n",
              "                              ...                        \n",
              "1935    {'Name': 'Georgi Zdravko', 'Link': 'https://ww...\n",
              "1936    {'Name': 'Zograf', 'Link': 'https://www.hp-lex...\n",
              "1937    {'Name': 'Zonko', 'Link': 'https://www.hp-lexi...\n",
              "1938    {'Name': 'Valentina Vázquez', 'Link': 'https:/...\n",
              "1939    {'Name': 'Zygmunt Budge', 'Link': 'https://www...\n",
              "Length: 1940, dtype: object"
            ]
          },
          "metadata": {},
          "execution_count": 10
        }
      ]
    }
  ]
}